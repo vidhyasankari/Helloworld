{
  "nbformat": 4,
  "nbformat_minor": 0,
  "metadata": {
    "colab": {
      "name": "Python Varirables.ipynb",
      "version": "0.3.2",
      "provenance": [],
      "collapsed_sections": [],
      "include_colab_link": true
    },
    "kernelspec": {
      "name": "python3",
      "display_name": "Python 3"
    }
  },
  "cells": [
    {
      "cell_type": "markdown",
      "metadata": {
        "id": "view-in-github",
        "colab_type": "text"
      },
      "source": [
        "<a href=\"https://colab.research.google.com/github/vidhyasankari/Helloworld/blob/master/Python_Varirables.ipynb\" target=\"_parent\"><img src=\"https://colab.research.google.com/assets/colab-badge.svg\" alt=\"Open In Colab\"/></a>"
      ]
    },
    {
      "metadata": {
        "id": "3PkMluiU7YOt",
        "colab_type": "code",
        "colab": {
          "base_uri": "https://localhost:8080/",
          "height": 34
        },
        "outputId": "a3c99594-d2d0-458a-d052-0928680d3f03"
      },
      "cell_type": "code",
      "source": [
        "import keyword\n",
        "#help(keyword)\n",
        "len(keyword.kwlist)\n",
        "import sys\n",
        "sys.version"
      ],
      "execution_count": 11,
      "outputs": [
        {
          "output_type": "execute_result",
          "data": {
            "text/plain": [
              "'3.6.7 (default, Oct 22 2018, 11:32:17) \\n[GCC 8.2.0]'"
            ]
          },
          "metadata": {
            "tags": []
          },
          "execution_count": 11
        }
      ]
    },
    {
      "metadata": {
        "id": "nraDSSM3Bxmq",
        "colab_type": "code",
        "colab": {}
      },
      "cell_type": "code",
      "source": [
        "empName=\"Vidhya\"\n",
        "empSalary=100000.\n",
        "empDoj=\"29/2/2016\"\n",
        "empDept=\"Analytics\"\n",
        "empTitle=\"Digital Strategy Analyst\""
      ],
      "execution_count": 0,
      "outputs": []
    },
    {
      "metadata": {
        "id": "Tsj6yMTpDBFE",
        "colab_type": "code",
        "colab": {
          "base_uri": "https://localhost:8080/",
          "height": 50
        },
        "outputId": "4080034c-2eb7-4708-8f0c-3bc0e51f7c22"
      },
      "cell_type": "code",
      "source": [
        "a=b=c=10\n",
        "print(a,b,c)\n",
        "d,e,f=10.1,2,\"b\"\n",
        "print(d,e,f)"
      ],
      "execution_count": 17,
      "outputs": [
        {
          "output_type": "stream",
          "text": [
            "10 10 10\n",
            "10.1 2 b\n"
          ],
          "name": "stdout"
        }
      ]
    },
    {
      "metadata": {
        "id": "a5Em6oxMDp0L",
        "colab_type": "code",
        "colab": {
          "base_uri": "https://localhost:8080/",
          "height": 34
        },
        "outputId": "117d2002-cc3e-4241-e4a9-b22021dd3883"
      },
      "cell_type": "code",
      "source": [
        "a=\"vidhya\"\n",
        "b=\"sriram\"\n",
        "print(a+b)"
      ],
      "execution_count": 18,
      "outputs": [
        {
          "output_type": "stream",
          "text": [
            "vidhyasriram\n"
          ],
          "name": "stdout"
        }
      ]
    },
    {
      "metadata": {
        "id": "e1gkhIpWERtU",
        "colab_type": "code",
        "colab": {}
      },
      "cell_type": "code",
      "source": [
        "#CamelCase\n",
        "myName=\"Vidhya\"\n",
        "#snake case\n",
        "my_name=\"Vidhya\"\n",
        "#pascal case\n",
        "MyName=\"Vidhya\""
      ],
      "execution_count": 0,
      "outputs": []
    },
    {
      "metadata": {
        "id": "icsaCLXN5rJO",
        "colab_type": "code",
        "colab": {
          "base_uri": "https://localhost:8080/",
          "height": 34
        },
        "outputId": "0ec50422-7323-4a5e-b5b9-e0a8765f9b3f"
      },
      "cell_type": "code",
      "source": [
        "print(\"Hello World!\")"
      ],
      "execution_count": 3,
      "outputs": [
        {
          "output_type": "stream",
          "text": [
            "Hello World!\n"
          ],
          "name": "stdout"
        }
      ]
    },
    {
      "metadata": {
        "id": "wpDFYjP75fAc",
        "colab_type": "code",
        "colab": {
          "base_uri": "https://localhost:8080/",
          "height": 34
        },
        "outputId": "3b1bb210-91ec-4b3a-81f0-ae7f223ea6bd"
      },
      "cell_type": "code",
      "source": [
        "5+7\n"
      ],
      "execution_count": 1,
      "outputs": [
        {
          "output_type": "execute_result",
          "data": {
            "text/plain": [
              "12"
            ]
          },
          "metadata": {
            "tags": []
          },
          "execution_count": 1
        }
      ]
    },
    {
      "metadata": {
        "id": "sd_rDILyFdEa",
        "colab_type": "code",
        "colab": {
          "base_uri": "https://localhost:8080/",
          "height": 67
        },
        "outputId": "de4872d8-3774-40ed-f862-1d120b02bc07"
      },
      "cell_type": "code",
      "source": [
        "myVar=202\n",
        "print(myVar)\n",
        "print(type(myVar))\n",
        "print(myVar+30)"
      ],
      "execution_count": 27,
      "outputs": [
        {
          "output_type": "stream",
          "text": [
            "202\n",
            "<class 'int'>\n",
            "232\n"
          ],
          "name": "stdout"
        }
      ]
    },
    {
      "metadata": {
        "id": "iPcbeXRLGJH5",
        "colab_type": "code",
        "colab": {
          "base_uri": "https://localhost:8080/",
          "height": 34
        },
        "outputId": "dedda7ba-c61f-4341-a5f0-8c796bc63927"
      },
      "cell_type": "code",
      "source": [
        "print(\"This is a line with single(') quotes\")"
      ],
      "execution_count": 30,
      "outputs": [
        {
          "output_type": "stream",
          "text": [
            "This is a line with single(') quotes\n"
          ],
          "name": "stdout"
        }
      ]
    },
    {
      "metadata": {
        "id": "fNz70bUjH21m",
        "colab_type": "code",
        "colab": {}
      },
      "cell_type": "code",
      "source": [
        ""
      ],
      "execution_count": 0,
      "outputs": []
    }
  ]
}